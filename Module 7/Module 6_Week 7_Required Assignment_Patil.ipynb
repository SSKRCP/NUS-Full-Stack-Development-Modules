{
 "cells": [
  {
   "cell_type": "markdown",
   "id": "025e0b8b",
   "metadata": {},
   "source": [
    "## Importing the required libraries"
   ]
  },
  {
   "cell_type": "code",
   "execution_count": 320,
   "id": "19595ccd",
   "metadata": {},
   "outputs": [],
   "source": [
    "import numpy as np\n",
    "import pandas as pd\n",
    "import matplotlib.pyplot as plt"
   ]
  },
  {
   "cell_type": "markdown",
   "id": "00971247",
   "metadata": {},
   "source": [
    "## Task 1. Introduction to NumPy and ndarray "
   ]
  },
  {
   "cell_type": "code",
   "execution_count": 321,
   "id": "32e01a84",
   "metadata": {},
   "outputs": [
    {
     "data": {
      "text/plain": [
       "array([[10.1, 10.2, 10.3],\n",
       "       [20.1, 20.2, 20.3],\n",
       "       [30.1, 30.2, 30.3]])"
      ]
     },
     "execution_count": 321,
     "metadata": {},
     "output_type": "execute_result"
    }
   ],
   "source": [
    "\n",
    "# a) Create a 2-dimensional NumPy array of shape (3, 3) with elements of type float64. \n",
    " \n",
    "myArray = np.array(\n",
    "    [\n",
    "        [10.1, 10.2, 10.3],\n",
    "        [20.1, 20.2, 20.3],\n",
    "        [30.1, 30.2, 30.3]\n",
    "    ],\n",
    "    dtype=np.float64\n",
    ")\n",
    "\n",
    "myArray"
   ]
  },
  {
   "cell_type": "code",
   "execution_count": 322,
   "id": "434e945e",
   "metadata": {},
   "outputs": [
    {
     "data": {
      "text/plain": [
       "array([[20.1, 20.2, 20.3],\n",
       "       [30.1, 30.2, 30.3],\n",
       "       [40.1, 40.2, 40.3]])"
      ]
     },
     "execution_count": 322,
     "metadata": {},
     "output_type": "execute_result"
    }
   ],
   "source": [
    "# b) Perform element-wise addition of the array with a scalar value of 10. \n",
    "\n",
    "myAdditionArray = myArray + 10\n",
    "\n",
    "myAdditionArray"
   ]
  },
  {
   "cell_type": "code",
   "execution_count": 323,
   "id": "8e0977dc",
   "metadata": {},
   "outputs": [
    {
     "data": {
      "text/plain": [
       "array([[ 51.51,  53.04,  54.59],\n",
       "       [303.51, 307.04, 310.59],\n",
       "       [755.51, 761.04, 766.59]])"
      ]
     },
     "execution_count": 323,
     "metadata": {},
     "output_type": "execute_result"
    }
   ],
   "source": [
    "# c) Perform element-wise multiplication with another 3x3 NumPy array. \n",
    "\n",
    "myArray2 = np.array(\n",
    "    [\n",
    "        [5.1, 5.2, 5.3],\n",
    "        [15.1, 15.2, 15.3],\n",
    "        [25.1, 25.2, 25.3]\n",
    "    ],\n",
    "    dtype=np.float64\n",
    ")\n",
    "\n",
    "myMultiplicationArray = myArray * myArray2\n",
    "\n",
    "myMultiplicationArray"
   ]
  },
  {
   "cell_type": "code",
   "execution_count": 324,
   "id": "77f007fe",
   "metadata": {},
   "outputs": [
    {
     "name": "stdout",
     "output_type": "stream",
     "text": [
      "The DTYpe of Addition Result Array : float64\n",
      "The Shape of Addition Result Array : (3, 3)\n",
      "The Size of Addition Result Array : 9\n",
      "The DTYpe of Multiplication Result Array : float64\n",
      "The Shape of Multiplication Result Array : (3, 3)\n",
      "The Size of Multiplication Result Array : 9\n"
     ]
    }
   ],
   "source": [
    "# d) Print the dtype, shape, and size for each of the two result arrays.\n",
    "\n",
    "#Addition Result Arry\n",
    "print(f'The DTYpe of Addition Result Array : {myAdditionArray.dtype}')\n",
    "print(f'The Shape of Addition Result Array : {myAdditionArray.shape}')\n",
    "print(f'The Size of Addition Result Array : {myAdditionArray.size}')\n",
    "\n",
    "#Multiplication Result Array\n",
    "print(f'The DTYpe of Multiplication Result Array : {myMultiplicationArray.dtype}')\n",
    "print(f'The Shape of Multiplication Result Array : {myMultiplicationArray.shape}')\n",
    "print(f'The Size of Multiplication Result Array : {myMultiplicationArray.size}')"
   ]
  },
  {
   "cell_type": "markdown",
   "id": "bf61d88d",
   "metadata": {},
   "source": [
    "## Task 2. Data Cleaning and Missing Values Handling"
   ]
  },
  {
   "cell_type": "code",
   "execution_count": 325,
   "id": "d1a0345f",
   "metadata": {},
   "outputs": [
    {
     "name": "stdout",
     "output_type": "stream",
     "text": [
      "The employee data before data cleaning is as below:\n"
     ]
    },
    {
     "data": {
      "text/html": [
       "<div>\n",
       "<style scoped>\n",
       "    .dataframe tbody tr th:only-of-type {\n",
       "        vertical-align: middle;\n",
       "    }\n",
       "\n",
       "    .dataframe tbody tr th {\n",
       "        vertical-align: top;\n",
       "    }\n",
       "\n",
       "    .dataframe thead th {\n",
       "        text-align: right;\n",
       "    }\n",
       "</style>\n",
       "<table border=\"1\" class=\"dataframe\">\n",
       "  <thead>\n",
       "    <tr style=\"text-align: right;\">\n",
       "      <th></th>\n",
       "      <th>EmployeeID</th>\n",
       "      <th>Age (yrs)</th>\n",
       "      <th>CostCenter</th>\n",
       "      <th>SingaporeStatus</th>\n",
       "      <th>NoOfYearsOfExperience</th>\n",
       "    </tr>\n",
       "  </thead>\n",
       "  <tbody>\n",
       "    <tr>\n",
       "      <th>Alice</th>\n",
       "      <td>Emp01</td>\n",
       "      <td>35.0</td>\n",
       "      <td>CC01</td>\n",
       "      <td>Citizen</td>\n",
       "      <td>10.0</td>\n",
       "    </tr>\n",
       "    <tr>\n",
       "      <th>John</th>\n",
       "      <td>Emp02</td>\n",
       "      <td>25.0</td>\n",
       "      <td>CC02</td>\n",
       "      <td>Citizen</td>\n",
       "      <td>10.0</td>\n",
       "    </tr>\n",
       "    <tr>\n",
       "      <th>David</th>\n",
       "      <td>Emp03</td>\n",
       "      <td>39.0</td>\n",
       "      <td>CC01</td>\n",
       "      <td>NaN</td>\n",
       "      <td>8.0</td>\n",
       "    </tr>\n",
       "    <tr>\n",
       "      <th>Maya</th>\n",
       "      <td>Emp04</td>\n",
       "      <td>45.0</td>\n",
       "      <td>NaN</td>\n",
       "      <td>Citizen</td>\n",
       "      <td>7.0</td>\n",
       "    </tr>\n",
       "    <tr>\n",
       "      <th>Rahman</th>\n",
       "      <td>Emp05</td>\n",
       "      <td>NaN</td>\n",
       "      <td>CC01</td>\n",
       "      <td>PR</td>\n",
       "      <td>NaN</td>\n",
       "    </tr>\n",
       "    <tr>\n",
       "      <th>Jun Jie</th>\n",
       "      <td>Emp06</td>\n",
       "      <td>55.0</td>\n",
       "      <td>CC02</td>\n",
       "      <td>PR</td>\n",
       "      <td>NaN</td>\n",
       "    </tr>\n",
       "    <tr>\n",
       "      <th>Robby</th>\n",
       "      <td>Emp07</td>\n",
       "      <td>51.0</td>\n",
       "      <td>CC02</td>\n",
       "      <td>EP</td>\n",
       "      <td>4.0</td>\n",
       "    </tr>\n",
       "    <tr>\n",
       "      <th>Michelle</th>\n",
       "      <td>Emp08</td>\n",
       "      <td>28.0</td>\n",
       "      <td>CC02</td>\n",
       "      <td>NaN</td>\n",
       "      <td>1.0</td>\n",
       "    </tr>\n",
       "    <tr>\n",
       "      <th>Preetha</th>\n",
       "      <td>Emp09</td>\n",
       "      <td>46.0</td>\n",
       "      <td>NaN</td>\n",
       "      <td>Citizen</td>\n",
       "      <td>7.0</td>\n",
       "    </tr>\n",
       "    <tr>\n",
       "      <th>Joe</th>\n",
       "      <td>Emp10</td>\n",
       "      <td>NaN</td>\n",
       "      <td>CC01</td>\n",
       "      <td>EP</td>\n",
       "      <td>6.0</td>\n",
       "    </tr>\n",
       "  </tbody>\n",
       "</table>\n",
       "</div>"
      ],
      "text/plain": [
       "         EmployeeID  Age (yrs) CostCenter SingaporeStatus  \\\n",
       "Alice         Emp01       35.0       CC01         Citizen   \n",
       "John          Emp02       25.0       CC02         Citizen   \n",
       "David         Emp03       39.0       CC01             NaN   \n",
       "Maya          Emp04       45.0        NaN         Citizen   \n",
       "Rahman        Emp05        NaN       CC01              PR   \n",
       "Jun Jie       Emp06       55.0       CC02              PR   \n",
       "Robby         Emp07       51.0       CC02              EP   \n",
       "Michelle      Emp08       28.0       CC02             NaN   \n",
       "Preetha       Emp09       46.0        NaN         Citizen   \n",
       "Joe           Emp10        NaN       CC01              EP   \n",
       "\n",
       "          NoOfYearsOfExperience  \n",
       "Alice                      10.0  \n",
       "John                       10.0  \n",
       "David                       8.0  \n",
       "Maya                        7.0  \n",
       "Rahman                      NaN  \n",
       "Jun Jie                     NaN  \n",
       "Robby                       4.0  \n",
       "Michelle                    1.0  \n",
       "Preetha                     7.0  \n",
       "Joe                         6.0  "
      ]
     },
     "execution_count": 325,
     "metadata": {},
     "output_type": "execute_result"
    }
   ],
   "source": [
    "# a) Create a DataFrame with missing values (NaN) in several columns.\n",
    "\n",
    "employeeData = {\n",
    "    'EmployeeID':['Emp01','Emp02','Emp03','Emp04','Emp05','Emp06','Emp07','Emp08','Emp09','Emp10'],\n",
    "    'Age (yrs)':[35,25,39,45,np.nan,55,51,28,46,np.nan],\n",
    "    'CostCenter':['CC01','CC02','CC01',np.nan,'CC01','CC02','CC02','CC02',np.nan,'CC01'],\n",
    "    'SingaporeStatus':['Citizen','Citizen',np.nan,'Citizen','PR','PR','EP',np.nan,'Citizen','EP'],\n",
    "    'NoOfYearsOfExperience':[10,10,8,7,np.nan,np.nan,4,1,7,6]\n",
    "}\n",
    "\n",
    "employees=['Alice','John','David','Maya','Rahman','Jun Jie','Robby','Michelle','Preetha','Joe']\n",
    "\n",
    "dfEmployees = pd.DataFrame(employeeData, index=employees)\n",
    "\n",
    "print('The employee data before data cleaning is as below:')\n",
    "dfEmployees"
   ]
  },
  {
   "cell_type": "code",
   "execution_count": 326,
   "id": "9c72c494",
   "metadata": {},
   "outputs": [
    {
     "name": "stdout",
     "output_type": "stream",
     "text": [
      "Identifying missing values:\n"
     ]
    },
    {
     "data": {
      "text/html": [
       "<div>\n",
       "<style scoped>\n",
       "    .dataframe tbody tr th:only-of-type {\n",
       "        vertical-align: middle;\n",
       "    }\n",
       "\n",
       "    .dataframe tbody tr th {\n",
       "        vertical-align: top;\n",
       "    }\n",
       "\n",
       "    .dataframe thead th {\n",
       "        text-align: right;\n",
       "    }\n",
       "</style>\n",
       "<table border=\"1\" class=\"dataframe\">\n",
       "  <thead>\n",
       "    <tr style=\"text-align: right;\">\n",
       "      <th></th>\n",
       "      <th>EmployeeID</th>\n",
       "      <th>Age (yrs)</th>\n",
       "      <th>CostCenter</th>\n",
       "      <th>SingaporeStatus</th>\n",
       "      <th>NoOfYearsOfExperience</th>\n",
       "    </tr>\n",
       "  </thead>\n",
       "  <tbody>\n",
       "    <tr>\n",
       "      <th>Alice</th>\n",
       "      <td>False</td>\n",
       "      <td>False</td>\n",
       "      <td>False</td>\n",
       "      <td>False</td>\n",
       "      <td>False</td>\n",
       "    </tr>\n",
       "    <tr>\n",
       "      <th>John</th>\n",
       "      <td>False</td>\n",
       "      <td>False</td>\n",
       "      <td>False</td>\n",
       "      <td>False</td>\n",
       "      <td>False</td>\n",
       "    </tr>\n",
       "    <tr>\n",
       "      <th>David</th>\n",
       "      <td>False</td>\n",
       "      <td>False</td>\n",
       "      <td>False</td>\n",
       "      <td>True</td>\n",
       "      <td>False</td>\n",
       "    </tr>\n",
       "    <tr>\n",
       "      <th>Maya</th>\n",
       "      <td>False</td>\n",
       "      <td>False</td>\n",
       "      <td>True</td>\n",
       "      <td>False</td>\n",
       "      <td>False</td>\n",
       "    </tr>\n",
       "    <tr>\n",
       "      <th>Rahman</th>\n",
       "      <td>False</td>\n",
       "      <td>True</td>\n",
       "      <td>False</td>\n",
       "      <td>False</td>\n",
       "      <td>True</td>\n",
       "    </tr>\n",
       "    <tr>\n",
       "      <th>Jun Jie</th>\n",
       "      <td>False</td>\n",
       "      <td>False</td>\n",
       "      <td>False</td>\n",
       "      <td>False</td>\n",
       "      <td>True</td>\n",
       "    </tr>\n",
       "    <tr>\n",
       "      <th>Robby</th>\n",
       "      <td>False</td>\n",
       "      <td>False</td>\n",
       "      <td>False</td>\n",
       "      <td>False</td>\n",
       "      <td>False</td>\n",
       "    </tr>\n",
       "    <tr>\n",
       "      <th>Michelle</th>\n",
       "      <td>False</td>\n",
       "      <td>False</td>\n",
       "      <td>False</td>\n",
       "      <td>True</td>\n",
       "      <td>False</td>\n",
       "    </tr>\n",
       "    <tr>\n",
       "      <th>Preetha</th>\n",
       "      <td>False</td>\n",
       "      <td>False</td>\n",
       "      <td>True</td>\n",
       "      <td>False</td>\n",
       "      <td>False</td>\n",
       "    </tr>\n",
       "    <tr>\n",
       "      <th>Joe</th>\n",
       "      <td>False</td>\n",
       "      <td>True</td>\n",
       "      <td>False</td>\n",
       "      <td>False</td>\n",
       "      <td>False</td>\n",
       "    </tr>\n",
       "  </tbody>\n",
       "</table>\n",
       "</div>"
      ],
      "text/plain": [
       "          EmployeeID  Age (yrs)  CostCenter  SingaporeStatus  \\\n",
       "Alice          False      False       False            False   \n",
       "John           False      False       False            False   \n",
       "David          False      False       False             True   \n",
       "Maya           False      False        True            False   \n",
       "Rahman         False       True       False            False   \n",
       "Jun Jie        False      False       False            False   \n",
       "Robby          False      False       False            False   \n",
       "Michelle       False      False       False             True   \n",
       "Preetha        False      False        True            False   \n",
       "Joe            False       True       False            False   \n",
       "\n",
       "          NoOfYearsOfExperience  \n",
       "Alice                     False  \n",
       "John                      False  \n",
       "David                     False  \n",
       "Maya                      False  \n",
       "Rahman                     True  \n",
       "Jun Jie                    True  \n",
       "Robby                     False  \n",
       "Michelle                  False  \n",
       "Preetha                   False  \n",
       "Joe                       False  "
      ]
     },
     "execution_count": 326,
     "metadata": {},
     "output_type": "execute_result"
    }
   ],
   "source": [
    "# b) Use Pandas functions to identify missing values using isna() or isnull() \n",
    "\n",
    "print('Identifying missing values:')\n",
    "dfEmployees.isna()\n",
    "\n",
    "#dfEmployees.isnull()"
   ]
  },
  {
   "cell_type": "code",
   "execution_count": 327,
   "id": "6369e73a",
   "metadata": {},
   "outputs": [
    {
     "name": "stdout",
     "output_type": "stream",
     "text": [
      "After dropping rows with null values in one or more columns:\n"
     ]
    },
    {
     "data": {
      "text/html": [
       "<div>\n",
       "<style scoped>\n",
       "    .dataframe tbody tr th:only-of-type {\n",
       "        vertical-align: middle;\n",
       "    }\n",
       "\n",
       "    .dataframe tbody tr th {\n",
       "        vertical-align: top;\n",
       "    }\n",
       "\n",
       "    .dataframe thead th {\n",
       "        text-align: right;\n",
       "    }\n",
       "</style>\n",
       "<table border=\"1\" class=\"dataframe\">\n",
       "  <thead>\n",
       "    <tr style=\"text-align: right;\">\n",
       "      <th></th>\n",
       "      <th>EmployeeID</th>\n",
       "      <th>Age (yrs)</th>\n",
       "      <th>CostCenter</th>\n",
       "      <th>SingaporeStatus</th>\n",
       "      <th>NoOfYearsOfExperience</th>\n",
       "    </tr>\n",
       "  </thead>\n",
       "  <tbody>\n",
       "    <tr>\n",
       "      <th>Alice</th>\n",
       "      <td>Emp01</td>\n",
       "      <td>35.0</td>\n",
       "      <td>CC01</td>\n",
       "      <td>Citizen</td>\n",
       "      <td>10.0</td>\n",
       "    </tr>\n",
       "    <tr>\n",
       "      <th>John</th>\n",
       "      <td>Emp02</td>\n",
       "      <td>25.0</td>\n",
       "      <td>CC02</td>\n",
       "      <td>Citizen</td>\n",
       "      <td>10.0</td>\n",
       "    </tr>\n",
       "    <tr>\n",
       "      <th>Robby</th>\n",
       "      <td>Emp07</td>\n",
       "      <td>51.0</td>\n",
       "      <td>CC02</td>\n",
       "      <td>EP</td>\n",
       "      <td>4.0</td>\n",
       "    </tr>\n",
       "  </tbody>\n",
       "</table>\n",
       "</div>"
      ],
      "text/plain": [
       "      EmployeeID  Age (yrs) CostCenter SingaporeStatus  NoOfYearsOfExperience\n",
       "Alice      Emp01       35.0       CC01         Citizen                   10.0\n",
       "John       Emp02       25.0       CC02         Citizen                   10.0\n",
       "Robby      Emp07       51.0       CC02              EP                    4.0"
      ]
     },
     "execution_count": 327,
     "metadata": {},
     "output_type": "execute_result"
    }
   ],
   "source": [
    "# c) Use Pandas functions to drop rows with any missing data using dropna(). \n",
    "\n",
    "print('After dropping rows with null values in one or more columns:')\n",
    "dfEmployees.dropna()\n"
   ]
  },
  {
   "cell_type": "code",
   "execution_count": 328,
   "id": "e4d8fc28",
   "metadata": {},
   "outputs": [
    {
     "name": "stdout",
     "output_type": "stream",
     "text": [
      "After filling missing values with zero:\n"
     ]
    },
    {
     "data": {
      "text/html": [
       "<div>\n",
       "<style scoped>\n",
       "    .dataframe tbody tr th:only-of-type {\n",
       "        vertical-align: middle;\n",
       "    }\n",
       "\n",
       "    .dataframe tbody tr th {\n",
       "        vertical-align: top;\n",
       "    }\n",
       "\n",
       "    .dataframe thead th {\n",
       "        text-align: right;\n",
       "    }\n",
       "</style>\n",
       "<table border=\"1\" class=\"dataframe\">\n",
       "  <thead>\n",
       "    <tr style=\"text-align: right;\">\n",
       "      <th></th>\n",
       "      <th>EmployeeID</th>\n",
       "      <th>Age (yrs)</th>\n",
       "      <th>CostCenter</th>\n",
       "      <th>SingaporeStatus</th>\n",
       "      <th>NoOfYearsOfExperience</th>\n",
       "    </tr>\n",
       "  </thead>\n",
       "  <tbody>\n",
       "    <tr>\n",
       "      <th>Alice</th>\n",
       "      <td>Emp01</td>\n",
       "      <td>35.0</td>\n",
       "      <td>CC01</td>\n",
       "      <td>Citizen</td>\n",
       "      <td>10.0</td>\n",
       "    </tr>\n",
       "    <tr>\n",
       "      <th>John</th>\n",
       "      <td>Emp02</td>\n",
       "      <td>25.0</td>\n",
       "      <td>CC02</td>\n",
       "      <td>Citizen</td>\n",
       "      <td>10.0</td>\n",
       "    </tr>\n",
       "    <tr>\n",
       "      <th>David</th>\n",
       "      <td>Emp03</td>\n",
       "      <td>39.0</td>\n",
       "      <td>CC01</td>\n",
       "      <td>0</td>\n",
       "      <td>8.0</td>\n",
       "    </tr>\n",
       "    <tr>\n",
       "      <th>Maya</th>\n",
       "      <td>Emp04</td>\n",
       "      <td>45.0</td>\n",
       "      <td>0</td>\n",
       "      <td>Citizen</td>\n",
       "      <td>7.0</td>\n",
       "    </tr>\n",
       "    <tr>\n",
       "      <th>Rahman</th>\n",
       "      <td>Emp05</td>\n",
       "      <td>0.0</td>\n",
       "      <td>CC01</td>\n",
       "      <td>PR</td>\n",
       "      <td>0.0</td>\n",
       "    </tr>\n",
       "    <tr>\n",
       "      <th>Jun Jie</th>\n",
       "      <td>Emp06</td>\n",
       "      <td>55.0</td>\n",
       "      <td>CC02</td>\n",
       "      <td>PR</td>\n",
       "      <td>0.0</td>\n",
       "    </tr>\n",
       "    <tr>\n",
       "      <th>Robby</th>\n",
       "      <td>Emp07</td>\n",
       "      <td>51.0</td>\n",
       "      <td>CC02</td>\n",
       "      <td>EP</td>\n",
       "      <td>4.0</td>\n",
       "    </tr>\n",
       "    <tr>\n",
       "      <th>Michelle</th>\n",
       "      <td>Emp08</td>\n",
       "      <td>28.0</td>\n",
       "      <td>CC02</td>\n",
       "      <td>0</td>\n",
       "      <td>1.0</td>\n",
       "    </tr>\n",
       "    <tr>\n",
       "      <th>Preetha</th>\n",
       "      <td>Emp09</td>\n",
       "      <td>46.0</td>\n",
       "      <td>0</td>\n",
       "      <td>Citizen</td>\n",
       "      <td>7.0</td>\n",
       "    </tr>\n",
       "    <tr>\n",
       "      <th>Joe</th>\n",
       "      <td>Emp10</td>\n",
       "      <td>0.0</td>\n",
       "      <td>CC01</td>\n",
       "      <td>EP</td>\n",
       "      <td>6.0</td>\n",
       "    </tr>\n",
       "  </tbody>\n",
       "</table>\n",
       "</div>"
      ],
      "text/plain": [
       "         EmployeeID  Age (yrs) CostCenter SingaporeStatus  \\\n",
       "Alice         Emp01       35.0       CC01         Citizen   \n",
       "John          Emp02       25.0       CC02         Citizen   \n",
       "David         Emp03       39.0       CC01               0   \n",
       "Maya          Emp04       45.0          0         Citizen   \n",
       "Rahman        Emp05        0.0       CC01              PR   \n",
       "Jun Jie       Emp06       55.0       CC02              PR   \n",
       "Robby         Emp07       51.0       CC02              EP   \n",
       "Michelle      Emp08       28.0       CC02               0   \n",
       "Preetha       Emp09       46.0          0         Citizen   \n",
       "Joe           Emp10        0.0       CC01              EP   \n",
       "\n",
       "          NoOfYearsOfExperience  \n",
       "Alice                      10.0  \n",
       "John                       10.0  \n",
       "David                       8.0  \n",
       "Maya                        7.0  \n",
       "Rahman                      0.0  \n",
       "Jun Jie                     0.0  \n",
       "Robby                       4.0  \n",
       "Michelle                    1.0  \n",
       "Preetha                     7.0  \n",
       "Joe                         6.0  "
      ]
     },
     "execution_count": 328,
     "metadata": {},
     "output_type": "execute_result"
    }
   ],
   "source": [
    "# d) Use Pandas functions to fill missing values with a specified value using fillna(). \n",
    "\n",
    "print('After filling missing values with zero:')\n",
    "dfEmployees.fillna(0)"
   ]
  },
  {
   "cell_type": "markdown",
   "id": "e89ea5f7",
   "metadata": {},
   "source": [
    "## Task 3. Matplotlib Visualisation"
   ]
  },
  {
   "cell_type": "code",
   "execution_count": 329,
   "id": "78e13180",
   "metadata": {},
   "outputs": [
    {
     "data": {
      "image/png": "[encoded data removed]",
      "text/plain": [
       "<Figure size 640x480 with 1 Axes>"
      ]
     },
     "metadata": {},
     "output_type": "display_data"
    }
   ],
   "source": [
    "# a) Create a simple line plot showing the change in the value of a variable over time (you can generate data). \n",
    "\n",
    "time = ['9 AM','10 AM','11 AM', '12 PM', '1 PM', '2 PM', '3 PM', '4 PM', '5 PM', '6 PM']\n",
    "value=[15,25,30,34,75,80,89,95,125,130]\n",
    "\n",
    "# b) Add labels to the x-axis, y-axis, and a title. \n",
    "# c) Customise the line plot by changing the colour, marker style, and line width. \n",
    "\n",
    "plt.plot(time, value, color='red', marker='s', linewidth=2.0, markersize=6,markerfacecolor='yellow')\n",
    "plt.title(\"Cookies Sale in the Canteen\")\n",
    "plt.xlabel(\"Time\")\n",
    "plt.ylabel(\"No Of Cookies Sold\")\n",
    "plt.grid(True)\n",
    "plt.tight_layout()\n",
    "plt.show()"
   ]
  },
  {
   "cell_type": "code",
   "execution_count": 330,
   "id": "ad8e4d4e",
   "metadata": {},
   "outputs": [
    {
     "data": {
      "image/png": "[encoded data removed]",
      "text/plain": [
       "<Figure size 800x500 with 1 Axes>"
      ]
     },
     "metadata": {},
     "output_type": "display_data"
    }
   ],
   "source": [
    "# d) Create a scatter plot to show the relationship between two numerical variables (e.g., age vs. income).\n",
    "\n",
    "age = np.array(\n",
    "    [25,58,29,32,35,56,49,41,63,50,21,42,52,25,61,53,37,39,40,38,31,33]\n",
    ") \n",
    "\n",
    "income = np.where(age < 30, age * 75,\n",
    "         np.where(age <= 40, age * 100,\n",
    "         np.where(age <= 50, age *125, \n",
    "        np.where(age <= 70, age * 150,5000))))\n",
    "\n",
    "\n",
    "plt.figure(figsize=(8,5))\n",
    "plt.scatter(age, income, color='blue')\n",
    "plt.title(\"Representation of Age Vs Income\")   \n",
    "plt.xlabel(\"Age in years\")\n",
    "plt.ylabel(\"Income in $\")\n",
    "plt.grid(True)\n",
    "plt.show()\n"
   ]
  }
 ],
 "metadata": {
  "kernelspec": {
   "display_name": "Python 3",
   "language": "python",
   "name": "python3"
  },
  "language_info": {
   "codemirror_mode": {
    "name": "ipython",
    "version": 3
   },
   "file_extension": ".py",
   "mimetype": "text/x-python",
   "name": "python",
   "nbconvert_exporter": "python",
   "pygments_lexer": "ipython3",
   "version": "3.13.6"
  }
 },
 "nbformat": 4,
 "nbformat_minor": 5
}
