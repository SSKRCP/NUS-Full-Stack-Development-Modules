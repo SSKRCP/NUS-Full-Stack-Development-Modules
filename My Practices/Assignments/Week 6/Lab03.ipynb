{
 "cells": [
  {
   "cell_type": "markdown",
   "id": "d2ace54d",
   "metadata": {},
   "source": [
    "qqqq"
   ]
  },
  {
   "cell_type": "code",
   "execution_count": 1,
   "id": "c0aae036",
   "metadata": {},
   "outputs": [
    {
     "name": "stdout",
     "output_type": "stream",
     "text": [
      "10\n"
     ]
    }
   ],
   "source": [
    "x=10\n",
    "print(x)"
   ]
  }
 ],
 "metadata": {
  "kernelspec": {
   "display_name": "Python 3",
   "language": "python",
   "name": "python3"
  },
  "language_info": {
   "codemirror_mode": {
    "name": "ipython",
    "version": 3
   },
   "file_extension": ".py",
   "mimetype": "text/x-python",
   "name": "python",
   "nbconvert_exporter": "python",
   "pygments_lexer": "ipython3",
   "version": "3.13.6"
  }
 },
 "nbformat": 4,
 "nbformat_minor": 5
}
