{
 "cells": [
  {
   "cell_type": "markdown",
   "id": "d330f7e6",
   "metadata": {},
   "source": [
    "## Exercise 2 – Advanced Pandas Operations"
   ]
  },
  {
   "cell_type": "code",
   "execution_count": 13,
   "id": "99b3c2cd",
   "metadata": {},
   "outputs": [
    {
     "name": "stdout",
     "output_type": "stream",
     "text": [
      "data/forbes-global-2000-2008-2019/Forbes Global 2000 - 2008.csv 2000\n",
      "data/forbes-global-2000-2008-2019/Forbes Global 2000 - 2009.csv 2000\n",
      "data/forbes-global-2000-2008-2019/Forbes Global 2000 - 2010.csv 2000\n",
      "data/forbes-global-2000-2008-2019/Forbes Global 2000 - 2011.csv 1999\n",
      "data/forbes-global-2000-2008-2019/Forbes Global 2000 - 2012.csv 1999\n",
      "data/forbes-global-2000-2008-2019/Forbes Global 2000 - 2013.csv 1999\n",
      "data/forbes-global-2000-2008-2019/Forbes Global 2000 - 2014.csv 1998\n",
      "data/forbes-global-2000-2008-2019/Forbes Global 2000 - 2015.csv 2000\n",
      "data/forbes-global-2000-2008-2019/Forbes Global 2000 - 2016.csv 1999\n",
      "data/forbes-global-2000-2008-2019/Forbes Global 2000 - 2017.csv 1999\n",
      "data/forbes-global-2000-2008-2019/Forbes Global 2000 - 2018.csv 2000\n",
      "data/forbes-global-2000-2008-2019/Forbes Global 2000 - 2019.csv 2000\n",
      "data/forbes-global-2000-2008-2019/Forbes Global 2000 - 2020.csv 2000\n",
      "data/forbes-global-2000-2008-2019/Forbes Global 2000 - 2021.csv 2000\n",
      "data/forbes-global-2000-2008-2019/Forbes Global 2000 - 2022.csv 2000\n"
     ]
    }
   ],
   "source": [
    "import pandas as pd\n",
    "import unicodedata\n",
    "\n",
    "# Define the DataFrame with specified columns and data types\n",
    "df_panel = pd.DataFrame({\n",
    "    'Year': pd.Series(dtype='int'),\n",
    "    'Rank_nr': pd.Series(dtype='int'),\n",
    "    'Company': pd.Series(dtype='string'),\n",
    "    'Industry': pd.Series(dtype='string'),\n",
    "    'Country': pd.Series(dtype='string'),\n",
    "    'Sales': pd.Series(dtype='int'),\n",
    "    'Profits': pd.Series(dtype='float'),\n",
    "    'Assets': pd.Series(dtype='int'),\n",
    "    'Market_Value': pd.Series(dtype='int')\n",
    "})\n",
    "\n",
    "# Display the empty DataFrame\n",
    "#df_panel\n",
    "\n",
    "for year in range(2008, 2023):\n",
    "    file_name = f'data/forbes-global-2000-2008-2019/Forbes Global 2000 - {year}.csv'\n",
    "    df = pd.read_csv(file_name, encoding='ISO-8859-1')\n",
    "    print(file_name, len(df))\n",
    "\n",
    "    df.insert(0,'Year',year)\n",
    "    df_panel = pd.concat([df_panel,df], ignore_index=True)\n",
    "\n",
    "df_panel.reset_index(drop=True, inplace=True)\n",
    "df_panel.to_csv(f'data/forbes-global-2000-2008-2019/Forbes Global 2000 -  Combined Panel Data.csv', index=False, encoding='utf-8')\n",
    "\n",
    "df_panel['Company'] = df_panel['Company'].map(lambda x: unicodedata.normalize('NFKD', x).encode('ascii', 'ignore').decode('utf-8', 'ignore').strip())\n",
    "df_panel['Company'] = df_panel['Company'].replace({'_':' ', '-':' '}, regex=True)\n",
    "df_panel\n",
    "\n",
    "list_company = sorted(df_panel[\"Company\"].unique())\n",
    "for company in list_company:\n",
    "    df_company = df_panel[df_panel.Company == company].copy()\n",
    "    df_company.sort_values(by=['Year'], ascending=True, inplace=True)\n",
    "\n",
    "    company_name = company.replace('/', ' and ').replace(' ', '_').replace('.', '').replace(':', '').replace('?', '').replace('!', '').replace('/', '').replace('\\'', '')\n",
    "    df_company.to_csv(f'data/forbes-global-2000-2008-2019/Data by Company/{company_name}.csv', index=False, encoding='utf-8')\n"
   ]
  },
  {
   "cell_type": "code",
   "execution_count": 43,
   "id": "2af94cc8",
   "metadata": {},
   "outputs": [
    {
     "data": {
      "text/html": [
       "<div>\n",
       "<style scoped>\n",
       "    .dataframe tbody tr th:only-of-type {\n",
       "        vertical-align: middle;\n",
       "    }\n",
       "\n",
       "    .dataframe tbody tr th {\n",
       "        vertical-align: top;\n",
       "    }\n",
       "\n",
       "    .dataframe thead th {\n",
       "        text-align: right;\n",
       "    }\n",
       "</style>\n",
       "<table border=\"1\" class=\"dataframe\">\n",
       "  <thead>\n",
       "    <tr style=\"text-align: right;\">\n",
       "      <th></th>\n",
       "      <th>Year</th>\n",
       "      <th>Rank_nr</th>\n",
       "      <th>Company</th>\n",
       "      <th>Industry</th>\n",
       "      <th>Country</th>\n",
       "      <th>Sales</th>\n",
       "      <th>Profits</th>\n",
       "      <th>Assets</th>\n",
       "      <th>Market_Value</th>\n",
       "    </tr>\n",
       "  </thead>\n",
       "  <tbody>\n",
       "    <tr>\n",
       "      <th>count</th>\n",
       "      <td>2000.0</td>\n",
       "      <td>2000</td>\n",
       "      <td>2000</td>\n",
       "      <td>2000</td>\n",
       "      <td>2000</td>\n",
       "      <td>2000.0</td>\n",
       "      <td>2000.0</td>\n",
       "      <td>2000.0</td>\n",
       "      <td>2000.0</td>\n",
       "    </tr>\n",
       "    <tr>\n",
       "      <th>unique</th>\n",
       "      <td>NaN</td>\n",
       "      <td>1685</td>\n",
       "      <td>2000</td>\n",
       "      <td>26</td>\n",
       "      <td>58</td>\n",
       "      <td>NaN</td>\n",
       "      <td>1932.0</td>\n",
       "      <td>NaN</td>\n",
       "      <td>NaN</td>\n",
       "    </tr>\n",
       "    <tr>\n",
       "      <th>top</th>\n",
       "      <td>NaN</td>\n",
       "      <td>1959</td>\n",
       "      <td>Berkshire Hathaway</td>\n",
       "      <td>Banking</td>\n",
       "      <td>United States</td>\n",
       "      <td>NaN</td>\n",
       "      <td>781.0</td>\n",
       "      <td>NaN</td>\n",
       "      <td>NaN</td>\n",
       "    </tr>\n",
       "    <tr>\n",
       "      <th>freq</th>\n",
       "      <td>NaN</td>\n",
       "      <td>4</td>\n",
       "      <td>1</td>\n",
       "      <td>290</td>\n",
       "      <td>584</td>\n",
       "      <td>NaN</td>\n",
       "      <td>3.0</td>\n",
       "      <td>NaN</td>\n",
       "      <td>NaN</td>\n",
       "    </tr>\n",
       "    <tr>\n",
       "      <th>mean</th>\n",
       "      <td>2022.0</td>\n",
       "      <td>NaN</td>\n",
       "      <td>NaN</td>\n",
       "      <td>NaN</td>\n",
       "      <td>NaN</td>\n",
       "      <td>23886.202</td>\n",
       "      <td>NaN</td>\n",
       "      <td>117114.2185</td>\n",
       "      <td>38238.4255</td>\n",
       "    </tr>\n",
       "    <tr>\n",
       "      <th>std</th>\n",
       "      <td>0.0</td>\n",
       "      <td>NaN</td>\n",
       "      <td>NaN</td>\n",
       "      <td>NaN</td>\n",
       "      <td>NaN</td>\n",
       "      <td>40942.544294</td>\n",
       "      <td>NaN</td>\n",
       "      <td>363745.753098</td>\n",
       "      <td>117207.269875</td>\n",
       "    </tr>\n",
       "    <tr>\n",
       "      <th>min</th>\n",
       "      <td>2022.0</td>\n",
       "      <td>NaN</td>\n",
       "      <td>NaN</td>\n",
       "      <td>NaN</td>\n",
       "      <td>NaN</td>\n",
       "      <td>0.0</td>\n",
       "      <td>NaN</td>\n",
       "      <td>166.0</td>\n",
       "      <td>144.0</td>\n",
       "    </tr>\n",
       "    <tr>\n",
       "      <th>25%</th>\n",
       "      <td>2022.0</td>\n",
       "      <td>NaN</td>\n",
       "      <td>NaN</td>\n",
       "      <td>NaN</td>\n",
       "      <td>NaN</td>\n",
       "      <td>5604.0</td>\n",
       "      <td>NaN</td>\n",
       "      <td>14790.75</td>\n",
       "      <td>7325.75</td>\n",
       "    </tr>\n",
       "    <tr>\n",
       "      <th>50%</th>\n",
       "      <td>2022.0</td>\n",
       "      <td>NaN</td>\n",
       "      <td>NaN</td>\n",
       "      <td>NaN</td>\n",
       "      <td>NaN</td>\n",
       "      <td>12167.5</td>\n",
       "      <td>NaN</td>\n",
       "      <td>32007.0</td>\n",
       "      <td>16625.5</td>\n",
       "    </tr>\n",
       "    <tr>\n",
       "      <th>75%</th>\n",
       "      <td>2022.0</td>\n",
       "      <td>NaN</td>\n",
       "      <td>NaN</td>\n",
       "      <td>NaN</td>\n",
       "      <td>NaN</td>\n",
       "      <td>23742.5</td>\n",
       "      <td>NaN</td>\n",
       "      <td>77870.25</td>\n",
       "      <td>34712.0</td>\n",
       "    </tr>\n",
       "    <tr>\n",
       "      <th>max</th>\n",
       "      <td>2022.0</td>\n",
       "      <td>NaN</td>\n",
       "      <td>NaN</td>\n",
       "      <td>NaN</td>\n",
       "      <td>NaN</td>\n",
       "      <td>572754.0</td>\n",
       "      <td>NaN</td>\n",
       "      <td>5518508.0</td>\n",
       "      <td>2640316.0</td>\n",
       "    </tr>\n",
       "    <tr>\n",
       "      <th>Data Type</th>\n",
       "      <td>int64</td>\n",
       "      <td>object</td>\n",
       "      <td>object</td>\n",
       "      <td>object</td>\n",
       "      <td>object</td>\n",
       "      <td>float64</td>\n",
       "      <td>object</td>\n",
       "      <td>float64</td>\n",
       "      <td>float64</td>\n",
       "    </tr>\n",
       "    <tr>\n",
       "      <th>Missing Values</th>\n",
       "      <td>0</td>\n",
       "      <td>0</td>\n",
       "      <td>0</td>\n",
       "      <td>0</td>\n",
       "      <td>0</td>\n",
       "      <td>0</td>\n",
       "      <td>0</td>\n",
       "      <td>0</td>\n",
       "      <td>0</td>\n",
       "    </tr>\n",
       "    <tr>\n",
       "      <th>Present Values</th>\n",
       "      <td>2000</td>\n",
       "      <td>2000</td>\n",
       "      <td>2000</td>\n",
       "      <td>2000</td>\n",
       "      <td>2000</td>\n",
       "      <td>2000</td>\n",
       "      <td>2000</td>\n",
       "      <td>2000</td>\n",
       "      <td>2000</td>\n",
       "    </tr>\n",
       "  </tbody>\n",
       "</table>\n",
       "</div>"
      ],
      "text/plain": [
       "                  Year Rank_nr             Company Industry        Country  \\\n",
       "count           2000.0    2000                2000     2000           2000   \n",
       "unique             NaN    1685                2000       26             58   \n",
       "top                NaN    1959  Berkshire Hathaway  Banking  United States   \n",
       "freq               NaN       4                   1      290            584   \n",
       "mean            2022.0     NaN                 NaN      NaN            NaN   \n",
       "std                0.0     NaN                 NaN      NaN            NaN   \n",
       "min             2022.0     NaN                 NaN      NaN            NaN   \n",
       "25%             2022.0     NaN                 NaN      NaN            NaN   \n",
       "50%             2022.0     NaN                 NaN      NaN            NaN   \n",
       "75%             2022.0     NaN                 NaN      NaN            NaN   \n",
       "max             2022.0     NaN                 NaN      NaN            NaN   \n",
       "Data Type        int64  object              object   object         object   \n",
       "Missing Values       0       0                   0        0              0   \n",
       "Present Values    2000    2000                2000     2000           2000   \n",
       "\n",
       "                       Sales Profits         Assets   Market_Value  \n",
       "count                 2000.0  2000.0         2000.0         2000.0  \n",
       "unique                   NaN  1932.0            NaN            NaN  \n",
       "top                      NaN   781.0            NaN            NaN  \n",
       "freq                     NaN     3.0            NaN            NaN  \n",
       "mean               23886.202     NaN    117114.2185     38238.4255  \n",
       "std             40942.544294     NaN  363745.753098  117207.269875  \n",
       "min                      0.0     NaN          166.0          144.0  \n",
       "25%                   5604.0     NaN       14790.75        7325.75  \n",
       "50%                  12167.5     NaN        32007.0        16625.5  \n",
       "75%                  23742.5     NaN       77870.25        34712.0  \n",
       "max                 572754.0     NaN      5518508.0      2640316.0  \n",
       "Data Type            float64  object        float64        float64  \n",
       "Missing Values             0       0              0              0  \n",
       "Present Values          2000    2000           2000           2000  "
      ]
     },
     "execution_count": 43,
     "metadata": {},
     "output_type": "execute_result"
    }
   ],
   "source": [
    "\n",
    "df_panel_1 = df_panel[df_panel.Year == 2022].copy()\n",
    "\n",
    "df_panel_1.dropna(inplace=True)\n",
    "# It is important to reset a zero-based index when dropping rows with missing values although in this case it is not necessary\n",
    "df_panel_1.reset_index(drop=True, inplace=True)\n",
    "\n",
    "descriptive_report = df_panel_1.describe(include='all')\n",
    "dataTypes = pd.DataFrame(df_panel_1.dtypes, columns=['Data Type']).transpose()\n",
    "missingValues = pd.DataFrame(df_panel_1.isnull().sum(),columns=['Missing Values']).transpose()\n",
    "presentValues = pd.DataFrame(df_panel_1.count(),columns=['Present Values']).transpose()\n",
    "data_report=pd.concat([descriptive_report, dataTypes, missingValues, presentValues], axis=0)\n",
    "\n",
    "data_report"
   ]
  },
  {
   "cell_type": "code",
   "execution_count": 44,
   "id": "896a4fe6",
   "metadata": {},
   "outputs": [
    {
     "data": {
      "text/plain": [
       "<Axes: >"
      ]
     },
     "execution_count": 44,
     "metadata": {},
     "output_type": "execute_result"
    },
    {
     "data": {
      "image/png": "[encoded data removed]",
      "text/plain": [
       "<Figure size 640x480 with 1 Axes>"
      ]
     },
     "metadata": {},
     "output_type": "display_data"
    }
   ],
   "source": [
    "\n",
    "descriptive_report['Market_Value'].hist()"
   ]
  },
  {
   "cell_type": "code",
   "execution_count": 45,
   "id": "5a5c76e4",
   "metadata": {},
   "outputs": [
    {
     "name": "stdout",
     "output_type": "stream",
     "text": [
      "Skewness of Market_Value is 2.819037525111361\n"
     ]
    }
   ],
   "source": [
    "print('Skewness of Market_Value is {}'.format(descriptive_report['Market_Value'].skew()))"
   ]
  },
  {
   "cell_type": "code",
   "execution_count": 46,
   "id": "457044be",
   "metadata": {},
   "outputs": [
    {
     "data": {
      "text/plain": [
       "<Axes: >"
      ]
     },
     "execution_count": 46,
     "metadata": {},
     "output_type": "execute_result"
    },
    {
     "data": {
      "image/png": "[encoded data removed]",
      "text/plain": [
       "<Figure size 640x480 with 1 Axes>"
      ]
     },
     "metadata": {},
     "output_type": "display_data"
    }
   ],
   "source": [
    "import numpy as np\n",
    "\n",
    "descriptive_report['Log_Market_Value'] = np.log(descriptive_report['Market_Value'])\n",
    "descriptive_report['Log_Market_Value'].hist()"
   ]
  },
  {
   "cell_type": "code",
   "execution_count": 47,
   "id": "92ed24b7",
   "metadata": {},
   "outputs": [
    {
     "name": "stdout",
     "output_type": "stream",
     "text": [
      "Skewness of Market_Value is 0.0130657627640816\n"
     ]
    }
   ],
   "source": [
    "# Skewness index close to 0 indicates a normal distribution\n",
    "print('Skewness of Market_Value is {}'.format(descriptive_report['Log_Market_Value'].skew()))"
   ]
  },
  {
   "cell_type": "code",
   "execution_count": 48,
   "id": "d1eb1406",
   "metadata": {},
   "outputs": [
    {
     "data": {
      "text/html": [
       "<div>\n",
       "<style scoped>\n",
       "    .dataframe tbody tr th:only-of-type {\n",
       "        vertical-align: middle;\n",
       "    }\n",
       "\n",
       "    .dataframe tbody tr th {\n",
       "        vertical-align: top;\n",
       "    }\n",
       "\n",
       "    .dataframe thead th {\n",
       "        text-align: right;\n",
       "    }\n",
       "</style>\n",
       "<table border=\"1\" class=\"dataframe\">\n",
       "  <thead>\n",
       "    <tr style=\"text-align: right;\">\n",
       "      <th></th>\n",
       "      <th>Sales</th>\n",
       "      <th>Profits</th>\n",
       "      <th>Assets</th>\n",
       "      <th>Market_Value</th>\n",
       "    </tr>\n",
       "  </thead>\n",
       "  <tbody>\n",
       "    <tr>\n",
       "      <th>Sales</th>\n",
       "      <td>1.000000</td>\n",
       "      <td>NaN</td>\n",
       "      <td>0.999636</td>\n",
       "      <td>0.999436</td>\n",
       "    </tr>\n",
       "    <tr>\n",
       "      <th>Profits</th>\n",
       "      <td>NaN</td>\n",
       "      <td>1.0</td>\n",
       "      <td>NaN</td>\n",
       "      <td>NaN</td>\n",
       "    </tr>\n",
       "    <tr>\n",
       "      <th>Assets</th>\n",
       "      <td>0.999636</td>\n",
       "      <td>NaN</td>\n",
       "      <td>1.000000</td>\n",
       "      <td>0.999764</td>\n",
       "    </tr>\n",
       "    <tr>\n",
       "      <th>Market_Value</th>\n",
       "      <td>0.999436</td>\n",
       "      <td>NaN</td>\n",
       "      <td>0.999764</td>\n",
       "      <td>1.000000</td>\n",
       "    </tr>\n",
       "  </tbody>\n",
       "</table>\n",
       "</div>"
      ],
      "text/plain": [
       "                 Sales  Profits    Assets  Market_Value\n",
       "Sales         1.000000      NaN  0.999636      0.999436\n",
       "Profits            NaN      1.0       NaN           NaN\n",
       "Assets        0.999636      NaN  1.000000      0.999764\n",
       "Market_Value  0.999436      NaN  0.999764      1.000000"
      ]
     },
     "execution_count": 48,
     "metadata": {},
     "output_type": "execute_result"
    }
   ],
   "source": [
    "descriptive_report_ivs = descriptive_report[['Sales', 'Profits', 'Assets', 'Market_Value']]\n",
    "descriptive_report_ivs.corr(method='pearson')"
   ]
  },
  {
   "cell_type": "code",
   "execution_count": 49,
   "id": "a1c2dcf0",
   "metadata": {},
   "outputs": [
    {
     "data": {
      "text/plain": [
       "<Axes: >"
      ]
     },
     "execution_count": 49,
     "metadata": {},
     "output_type": "execute_result"
    },
    {
     "data": {
      "image/png": "[encoded data removed]",
      "text/plain": [
       "<Figure size 640x480 with 1 Axes>"
      ]
     },
     "metadata": {},
     "output_type": "display_data"
    }
   ],
   "source": [
    "descriptive_report['Market_Value_Binary'] = np.where(descriptive_report['Market_Value'] <= descriptive_report['Market_Value'].median(), 0, 1)\n",
    "descriptive_report['Market_Value_Binary'].hist()"
   ]
  }
 ],
 "metadata": {
  "kernelspec": {
   "display_name": "Python 3",
   "language": "python",
   "name": "python3"
  },
  "language_info": {
   "codemirror_mode": {
    "name": "ipython",
    "version": 3
   },
   "file_extension": ".py",
   "mimetype": "text/x-python",
   "name": "python",
   "nbconvert_exporter": "python",
   "pygments_lexer": "ipython3",
   "version": "3.13.6"
  }
 },
 "nbformat": 4,
 "nbformat_minor": 5
}
