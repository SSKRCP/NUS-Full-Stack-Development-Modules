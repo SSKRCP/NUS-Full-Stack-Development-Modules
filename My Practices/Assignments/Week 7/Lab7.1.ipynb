{
 "cells": [
  {
   "cell_type": "markdown",
   "id": "36bef57f",
   "metadata": {},
   "source": [
    "## Lab 7.1 – NumPy"
   ]
  },
  {
   "cell_type": "markdown",
   "id": "d6785895",
   "metadata": {},
   "source": [
    "## Exercise 1 - Synthetic Data Generation"
   ]
  },
  {
   "cell_type": "code",
   "execution_count": 46,
   "id": "1a35cd8a",
   "metadata": {},
   "outputs": [
    {
     "name": "stdout",
     "output_type": "stream",
     "text": [
      "[114.3820442  107.64886896 108.53603372 ...  80.97564435 115.98183503\n",
      "  48.28169189]\n"
     ]
    }
   ],
   "source": [
    "import numpy as np\n",
    "import time\n",
    "\n",
    "np.random.seed(int(round(time.time())))\n",
    "\n",
    "# purchase data will follow a normal distribution with mean $100 and standard deviation $25\n",
    "purchaseAmount = np.random.normal(loc=100, scale=25, size=5000)\n",
    "\n",
    "# Clip to ensure that there is no negative spending\n",
    "purchaseAmount = np.clip(purchaseAmount, 0, None)\n",
    "\n",
    "print(purchaseAmount)\n"
   ]
  },
  {
   "cell_type": "markdown",
   "id": "9174680a",
   "metadata": {},
   "source": [
    "## Exercise 2 – Basic Data Analysis"
   ]
  },
  {
   "cell_type": "code",
   "execution_count": 47,
   "id": "43cc8d72",
   "metadata": {},
   "outputs": [
    {
     "name": "stdout",
     "output_type": "stream",
     "text": [
      "Mean value is : $99.81\n",
      "Standard Deviation is : $25.46\n",
      "The high valued customers spendings ( > 100) : $[114.3820442  107.64886896 108.53603372 ... 135.81516521 125.05300458\n",
      " 115.98183503]\n",
      "There are 2515 such customers.\n",
      "The percentage of the high valued customers is : 50.3%\n",
      "Top five percent threshold is : $141.89\n",
      "No of Top five percent spenders : 250\n",
      "Total value contributed by 5000 customets is : $499039.44\n"
     ]
    }
   ],
   "source": [
    "import numpy as np\n",
    "\n",
    "#print(purchaseAmount)\n",
    "\n",
    "meanValue = np.mean(purchaseAmount)\n",
    "print(f'Mean value is : ${meanValue:.2f}')\n",
    "\n",
    "stdDevValue = np.std(purchaseAmount,ddof=0)\n",
    "print(f'Standard Deviation is : ${stdDevValue:.2f}')\n",
    "\n",
    "highValueCustomers = purchaseAmount[purchaseAmount > 100]\n",
    "print(f'The high valued customers spendings ( > 100) : ${highValueCustomers}')\n",
    "print(f'There are {len(highValueCustomers)} such customers.')\n",
    "highValueCustomersPerc = (len(highValueCustomers) * 100)/len(purchaseAmount)\n",
    "print(f'The percentage of the high valued customers is : {highValueCustomersPerc}%')\n",
    "\n",
    "\n",
    "topFivePercThreshould = np.percentile(purchaseAmount, 95) # Top 5%\n",
    "topFivePercSpendings = purchaseAmount[purchaseAmount >= topFivePercThreshould]\n",
    "print(f'Top five percent threshold is : ${topFivePercThreshould:.2f}')\n",
    "topFivePercNumber = len(topFivePercSpendings)\n",
    "print(f'No of Top five percent spenders : {topFivePercNumber}')\n",
    "\n",
    "totaSpending=np.sum(purchaseAmount)\n",
    "print(f'Total value contributed by 5000 customets is : ${totaSpending:.2f}')\n"
   ]
  },
  {
   "cell_type": "markdown",
   "id": "dbbf9326",
   "metadata": {},
   "source": [
    "## Exercise 3 – Advanced Data Analysis"
   ]
  },
  {
   "cell_type": "code",
   "execution_count": 48,
   "id": "8bc6edf0",
   "metadata": {},
   "outputs": [
    {
     "name": "stdout",
     "output_type": "stream",
     "text": [
      "Lower outlier Threshold is 48.88 and Upper outlier Threshold is 150.73\n",
      "Number of Low Outliers is : 109\n",
      "Number of High Outliers is : 98\n"
     ]
    }
   ],
   "source": [
    "import numpy as np\n",
    "\n",
    "lowerThreshold = meanValue - 2 * stdDevValue\n",
    "upperThreshold = meanValue + 2 * stdDevValue\n",
    "\n",
    "lowerOutliers = purchaseAmount[(purchaseAmount < lowerThreshold)]\n",
    "upperOutliers = purchaseAmount[(purchaseAmount > upperThreshold)]\n",
    "print(f'Lower outlier Threshold is {lowerThreshold:.2f} and Upper outlier Threshold is {upperThreshold:.2f}')\n",
    "print(f'Number of Low Outliers is : {len(lowerOutliers)}')\n",
    "print(f'Number of High Outliers is : {len(upperOutliers)}')\n"
   ]
  },
  {
   "cell_type": "markdown",
   "id": "79b0ff61",
   "metadata": {},
   "source": [
    "## Exercise 3.3 "
   ]
  },
  {
   "cell_type": "code",
   "execution_count": 49,
   "id": "45e8e956",
   "metadata": {},
   "outputs": [
    {
     "name": "stdout",
     "output_type": "stream",
     "text": [
      "Very Low Spender: 125 customers\n",
      "Low Spender: 2360 customers\n",
      "Average Spender: 2409 customers\n",
      "High Spender: 95 customers\n",
      "Very High Spender: 11 customers\n"
     ]
    }
   ],
   "source": [
    "bins=[0, 50, 100, 150, 175]\n",
    "labels = ['Very Low Spender', 'Low Spender', 'Average Spender', 'High Spender', 'Very High Spender']\n",
    "dataTiers=np.digitize(purchaseAmount, bins,right=True)\n",
    "#print(purchaseAmount)\n",
    "#print(dataTiers)\n",
    "\n",
    "# Count customers in each tier\n",
    "for i, label in enumerate(labels):\n",
    "    count = np.sum(dataTiers == i+1)\n",
    "    print(f\"{label}: {count} customers\")\n",
    " \n"
   ]
  }
 ],
 "metadata": {
  "kernelspec": {
   "display_name": "Python 3",
   "language": "python",
   "name": "python3"
  },
  "language_info": {
   "codemirror_mode": {
    "name": "ipython",
    "version": 3
   },
   "file_extension": ".py",
   "mimetype": "text/x-python",
   "name": "python",
   "nbconvert_exporter": "python",
   "pygments_lexer": "ipython3",
   "version": "3.13.6"
  }
 },
 "nbformat": 4,
 "nbformat_minor": 5
}
