{
 "cells": [
  {
   "cell_type": "markdown",
   "id": "ab8b6fc5",
   "metadata": {},
   "source": [
    "## Task 1. Variables and Data Types"
   ]
  },
  {
   "cell_type": "code",
   "execution_count": 16,
   "id": "575a8f5a",
   "metadata": {},
   "outputs": [
    {
     "name": "stdout",
     "output_type": "stream",
     "text": [
      "Welcome Alice! Have a wonderful day ahead!\n",
      "Your age after 10 years will be 35 years.\n",
      "Your height in meters is 1.68 m.\n"
     ]
    }
   ],
   "source": [
    "# Declares variables for storing a user’s name, age, and height. \n",
    "user_name = input('Enter your name : ')\n",
    "user_age = input('Enter your age : ')\n",
    "user_height = input('Enter your height in centimetres : ')\n",
    "\n",
    "# Print a greeting message using the name.\n",
    "print(f'Welcome {user_name}! Have a wonderful day ahead!')\n",
    "\n",
    "# Calculate and print the user’s age 10 years from now. \n",
    "try:\n",
    "    user_age = int(user_age)    \n",
    "    if user_age < 0:\n",
    "        print(\"Invalid age. Age can not be a negative number!\")   \n",
    "    else:\n",
    "         user_future_age = user_age + 10\n",
    "         print(f\"Your age after 10 years will be {user_future_age} years.\") \n",
    "except ValueError:\n",
    "        print(\"Invalid age. Please enter a number for age.\")    \n",
    "\n",
    "# Display height in meters by converting height from centimetres. \n",
    "try:\n",
    "    user_height = float(user_height)    \n",
    "    if user_height < 0:\n",
    "        print(\"Invalid height. Height can not be a negative number!\")   \n",
    "    else:\n",
    "         user_height_meters = user_height / 100\n",
    "         print(f\"Your height in meters is {user_height_meters:.2f} m.\") \n",
    "except ValueError:\n",
    "        print(\"Invalid height. Please enter a number for height.\")   "
   ]
  },
  {
   "cell_type": "markdown",
   "id": "8e6f49a9",
   "metadata": {},
   "source": [
    "## Task 2. Conditional Statements "
   ]
  },
  {
   "cell_type": "code",
   "execution_count": 17,
   "id": "6376ddc7",
   "metadata": {},
   "outputs": [
    {
     "name": "stdout",
     "output_type": "stream",
     "text": [
      "The number 528 is a positive number!\n"
     ]
    }
   ],
   "source": [
    "# Prompt the user to enter a number. \n",
    "user_input = input('Enter a number : ')\n",
    "try:\n",
    "    user_input_num = float(user_input)\n",
    "\n",
    "    # Check if the number is positive, negative, or zero and print an appropriate message based on the result.\n",
    "    if user_input_num > 0:\n",
    "        print(f\"The number {user_input} is a positive number!\")\n",
    "    elif user_input_num < 0: \n",
    "         print(f\"The number {user_input} is a negative number!\")\n",
    "    else:\n",
    "        print(\"The number you entered is a zero!\")\n",
    "\n",
    "except ValueError:\n",
    "    print(\"Invalid number! Please enter a valid number.\") \n",
    " "
   ]
  },
  {
   "cell_type": "markdown",
   "id": "66d47796",
   "metadata": {},
   "source": [
    "## Task 3. Loops and Iteration"
   ]
  },
  {
   "cell_type": "code",
   "execution_count": 18,
   "id": "44dcaa43",
   "metadata": {},
   "outputs": [
    {
     "name": "stdout",
     "output_type": "stream",
     "text": [
      "Even numbers from 1 to 30 are : 2, 4, 6, 8, 10, 12, 14, 16, 18, 20, 22, 24, 26, 28, 30\n"
     ]
    }
   ],
   "source": [
    "# Prompt the user to input an integer nnn. \n",
    "user_input_n = input('Enter a number : ')\n",
    "even_numbers =''\n",
    "\n",
    "# Check if the user has entered a postive number greater that 0.\n",
    "# Print all even numbers from 1 up to the number entered by the user. \n",
    "try:\n",
    "    user_input_n = int(user_input_n)\n",
    "\n",
    "    if user_input_n < 1:\n",
    "        print('Please enter a positive number greater than 0.')        \n",
    "    else:\n",
    "        if user_input_n < 2:\n",
    "            even_numbers = ''\n",
    "        else:\n",
    "            for i in range(2,user_input_n + 1,2):\n",
    "                even_numbers += str(i) + ', '\n",
    "\n",
    "        if even_numbers == '':\n",
    "            print(f'There is no even number from 1 to {user_input_n}.')\n",
    "        else:\n",
    "            even_numbers = even_numbers.rstrip(', ')\n",
    "            print(f'Even numbers from 1 to {user_input_n} are : {even_numbers}')\n",
    "            \n",
    "except ValueError:\n",
    "    print(\"Invalid number! Please enter a valid integer number.\") "
   ]
  },
  {
   "cell_type": "markdown",
   "id": "f91d6136",
   "metadata": {},
   "source": [
    "## Task 4. Functions"
   ]
  },
  {
   "cell_type": "code",
   "execution_count": null,
   "id": "480bd7fd",
   "metadata": {},
   "outputs": [
    {
     "name": "stdout",
     "output_type": "stream",
     "text": [
      "The area of the rectangle (Length : 10.5, Width : 6.5) is : 68.25\n"
     ]
    },
    {
     "ename": "",
     "evalue": "",
     "output_type": "error",
     "traceback": [
      "\u001b[1;31mThe Kernel crashed while executing code in the current cell or a previous cell. \n",
      "\u001b[1;31mPlease review the code in the cell(s) to identify a possible cause of the failure. \n",
      "\u001b[1;31mClick <a href='https://aka.ms/vscodeJupyterKernelCrash'>here</a> for more info. \n",
      "\u001b[1;31mView Jupyter <a href='command:jupyter.viewOutput'>log</a> for further details."
     ]
    }
   ],
   "source": [
    "# Function to calculate the area of a rectangle using length and width as inputs\n",
    "def calcRectangleArea(length, width):\n",
    "    return length * width\n",
    "\n",
    "# Prompt the user to input values for length and width. \n",
    "try:\n",
    "    inputLength=float(input('Enter the length of the rectangle : '))\n",
    "    inputWidth=float(input('Enter the width of the rectangle : '))\n",
    "\n",
    "    # Call the function to calculate and then displays the area in a formatted message. \n",
    "    rectArea = calcRectangleArea(inputLength, inputWidth)\n",
    "    print(f'The area of the rectangle (Length : {inputLength}, Width : {inputWidth}) is : {rectArea:.2f}')\n",
    "    \n",
    "except ValueError:\n",
    "    print(\"Invalid value! Please enter a valid numberic value for length and width of the rectangle.\") "
   ]
  }
 ],
 "metadata": {
  "kernelspec": {
   "display_name": "Python 3",
   "language": "python",
   "name": "python3"
  },
  "language_info": {
   "codemirror_mode": {
    "name": "ipython",
    "version": 3
   },
   "file_extension": ".py",
   "mimetype": "text/x-python",
   "name": "python",
   "nbconvert_exporter": "python",
   "pygments_lexer": "ipython3",
   "version": "3.13.6"
  }
 },
 "nbformat": 4,
 "nbformat_minor": 5
}
